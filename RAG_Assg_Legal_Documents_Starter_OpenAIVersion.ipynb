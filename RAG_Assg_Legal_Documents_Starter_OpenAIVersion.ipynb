{
  "cells": [
    {
      "cell_type": "markdown",
      "source": [
        "# **Extracting Information from Legal Documents Using RAG**"
      ],
      "metadata": {
        "id": "lf5lYawIw8tE"
      },
      "id": "lf5lYawIw8tE"
    },
    {
      "cell_type": "markdown",
      "source": [
        "## **Objective**"
      ],
      "metadata": {
        "id": "NY1InIbkw80B"
      },
      "id": "NY1InIbkw80B"
    },
    {
      "cell_type": "markdown",
      "metadata": {
        "id": "3403a4b5"
      },
      "source": [
        "The main objective of this assignment is to process and analyse a collection text files containing legal agreements (e.g., NDAs) to prepare them for implementing a **Retrieval-Augmented Generation (RAG)** system. This involves:\n",
        "\n",
        "* Understand the Cleaned Data : Gain a comprehensive understanding of the structure, content, and context of the cleaned dataset.\n",
        "* Perform Exploratory Analysis : Conduct bivariate and multivariate analyses to uncover relationships and trends within the cleaned data.\n",
        "* Create Visualisations : Develop meaningful visualisations to support the analysis and make findings interpretable.\n",
        "* Derive Insights and Conclusions : Extract valuable insights from the cleaned data and provide clear, actionable conclusions.\n",
        "* Document the Process : Provide a detailed description of the data, its attributes, and the steps taken during the analysis for reproducibility and clarity.\n",
        "\n",
        "The ultimate goal is to transform the raw text data into a clean, structured, and analysable format that can be effectively used to build and train a RAG system for tasks like information retrieval, question-answering, and knowledge extraction related to legal agreements."
      ],
      "id": "3403a4b5"
    },
    {
      "cell_type": "markdown",
      "source": [
        "### **Business Value**  \n"
      ],
      "metadata": {
        "id": "3TTEcbb5hIM-"
      },
      "id": "3TTEcbb5hIM-"
    },
    {
      "cell_type": "markdown",
      "source": [
        "The project aims to leverage RAG to enhance legal document processing for businesses, law firms, and regulatory bodies. The key business objectives include:\n",
        "\n",
        "* Faster Legal Research: <br> Reduce the time lawyers and compliance officers spend searching for relevant case laws, precedents, statutes, or contract clauses.\n",
        "* Improved Contract Analysis: <br> Automatically extract key terms, obligations, and risks from lengthy contracts.\n",
        "* Regulatory Compliance Monitoring: <br> Help businesses stay updated with legal and regulatory changes by retrieving relevant legal updates.\n",
        "* Enhanced Decision-Making: <br> Provide accurate and context-aware legal insights to assist in risk assessment and legal strategy.\n",
        "\n",
        "\n",
        "**Use Cases**\n",
        "* Legal Chatbots\n",
        "* Contract Review Automation\n",
        "* Tracking Regulatory Changes and Compliance Monitoring\n",
        "* Case Law Analysis of past judgments\n",
        "* Due Diligence & Risk Assessment"
      ],
      "metadata": {
        "id": "ZsfkEL2CgljF"
      },
      "id": "ZsfkEL2CgljF"
    },
    {
      "cell_type": "markdown",
      "source": [
        "## **1. Data Loading, Preparation and Analysis** <font color=red> [20 marks] </font><br>"
      ],
      "metadata": {
        "id": "rDp_EWxVOhUu"
      },
      "id": "rDp_EWxVOhUu"
    },
    {
      "cell_type": "markdown",
      "source": [
        "### **1.1 Data Understanding**"
      ],
      "metadata": {
        "id": "JZGTCfyUxalZ"
      },
      "id": "JZGTCfyUxalZ"
    },
    {
      "cell_type": "markdown",
      "source": [
        "The dataset contains legal documents and contracts collected from various sources. The documents are present as text files (`.txt`) in the *corpus* folder.\n",
        "\n",
        "There are four types of documents in the *courpus* folder, divided into four subfolders.\n",
        "- `contractnli`: contains various non-disclosure and confidentiality agreements\n",
        "- `cuad`: contains contracts with annotated legal clauses\n",
        "- `maud`: contains various merger/acquisition contracts and agreements\n",
        "- `privacy_qa`: a question-answering dataset containing privacy policies\n",
        "\n",
        "The dataset also contains evaluation files in JSON format in the *benchmark* folder. The files contain the questions and their answers, along with sources. For each of the above four folders, there is a `json` file: `contractnli.json`, `cuad.json`, `maud.json` `privacy_qa.json`. The file structure is as follows:\n",
        "\n",
        "```\n",
        "{\n",
        "    \"tests\": [\n",
        "        {\n",
        "            \"query\": <question1>,\n",
        "            \"snippets\": [{\n",
        "                    \"file_path\": <source_file1>,\n",
        "                    \"span\": [ begin_position, end_position ],\n",
        "                    \"answer\": <relevant answer to the question 1>\n",
        "                },\n",
        "                {\n",
        "                    \"file_path\": <source_file2>,\n",
        "                    \"span\": [ begin_position, end_position ],\n",
        "                    \"answer\": <relevant answer to the question 2>\n",
        "                }, ....\n",
        "            ]\n",
        "        },\n",
        "        {\n",
        "            \"query\": <question2>,\n",
        "            \"snippets\": [{<answer context for que 2>}]\n",
        "        },\n",
        "        ... <more queries>\n",
        "    ]\n",
        "}\n",
        "```"
      ],
      "metadata": {
        "id": "ok6sSYNAiG8V"
      },
      "id": "ok6sSYNAiG8V"
    },
    {
      "cell_type": "markdown",
      "source": [
        "### **1.2 Load and Preprocess the data** <font color=red> [5 marks] </font><br>"
      ],
      "metadata": {
        "id": "S7Ac8VxvjWnw"
      },
      "id": "S7Ac8VxvjWnw"
    },
    {
      "cell_type": "markdown",
      "source": [
        "#### Loading libraries"
      ],
      "metadata": {
        "id": "gJ8fA4Nh3fHg"
      },
      "id": "gJ8fA4Nh3fHg"
    },
    {
      "source": [
        "## The following libraries might be useful\n",
        "# !pip install -q langchain-openai\n",
        "# !pip install -U -q langchain-community\n",
        "# !pip install -U -q langchain-chroma\n",
        "# !pip install -U -q datasets\n",
        "# !pip install -U -q ragas\n",
        "# !pip install -U -q rouge_score"
      ],
      "cell_type": "code",
      "metadata": {
        "id": "BqyFHhSn48tC"
      },
      "execution_count": null,
      "outputs": [],
      "id": "BqyFHhSn48tC"
    },
    {
      "cell_type": "code",
      "source": [
        "# Import essential libraries\n",
        "\n"
      ],
      "metadata": {
        "id": "Qpn-qbhAi58F"
      },
      "execution_count": null,
      "outputs": [],
      "id": "Qpn-qbhAi58F"
    },
    {
      "cell_type": "markdown",
      "source": [
        "#### **1.2.1** <font color=red> [3 marks] </font>\n",
        "Load all `.txt` files from the folders."
      ],
      "metadata": {
        "id": "zOMf-tfIiOlp"
      },
      "id": "zOMf-tfIiOlp"
    },
    {
      "cell_type": "markdown",
      "id": "f2ea36ba",
      "metadata": {
        "id": "f2ea36ba"
      },
      "source": [
        "You can utilise document loaders from the options provided by the LangChain community.\n",
        "\n",
        "Optionally, you can also read the files manually, while ensuring proper handling of encoding issues (e.g., utf-8, latin1). In such case, also store the file content along with metadata (e.g., file name, directory path) for traceability."
      ]
    },
    {
      "cell_type": "code",
      "source": [
        "# Load the files as documents\n",
        "import zipfile\n",
        "import os\n",
        "\n",
        "# Step 1: Set path for the uploaded ZIP file and target extraction directory\n",
        "zip_path = \"/content/rag_legal.zip\"\n",
        "extract_dir = \"/content/rag_legal\"  # this will be your root dataset folder\n",
        "\n",
        "# Step 2: Unzip the file\n",
        "with zipfile.ZipFile(zip_path, 'r') as zip_ref:\n",
        "    zip_ref.extractall(extract_dir)\n",
        "\n",
        "print(\"✅ Dataset unzipped at:\", extract_dir)"
      ],
      "metadata": {
        "id": "I9rTY8DWx2Wj",
        "colab": {
          "base_uri": "https://localhost:8080/"
        },
        "outputId": "d4a4f1d1-e2e8-49c7-8679-c48ee7126e7f"
      },
      "id": "I9rTY8DWx2Wj",
      "execution_count": 1,
      "outputs": [
        {
          "output_type": "stream",
          "name": "stdout",
          "text": [
            "✅ Dataset unzipped at: /content/rag_legal\n"
          ]
        }
      ]
    },
    {
      "cell_type": "markdown",
      "source": [
        "#### **1.2.2** <font color=red> [2 marks] </font>\n",
        "Preprocess the text data to remove noise and prepare it for analysis."
      ],
      "metadata": {
        "id": "K4HYLoUjwmMs"
      },
      "id": "K4HYLoUjwmMs"
    },
    {
      "cell_type": "markdown",
      "id": "e9793fdf",
      "metadata": {
        "id": "e9793fdf"
      },
      "source": [
        "Remove special characters, extra whitespace, and irrelevant content such as email and telephone contact info.\n",
        "Normalise text (e.g., convert to lowercase, remove stop words).\n",
        "Handle missing or corrupted data by logging errors and skipping problematic files."
      ]
    },
    {
      "cell_type": "code",
      "execution_count": 9,
      "id": "1ec87e69",
      "metadata": {
        "id": "1ec87e69",
        "colab": {
          "base_uri": "https://localhost:8080/"
        },
        "outputId": "f7c2d68a-c2c7-443d-9033-f0876a509be0"
      },
      "outputs": [
        {
          "output_type": "stream",
          "name": "stdout",
          "text": [
            "✅ Loaded 698 documents\n",
            "📄 Sample document keys: dict_keys(['text', 'file_path', 'category'])\n"
          ]
        },
        {
          "output_type": "stream",
          "name": "stderr",
          "text": [
            "[nltk_data] Downloading package stopwords to /root/nltk_data...\n",
            "[nltk_data]   Package stopwords is already up-to-date!\n"
          ]
        }
      ],
      "source": [
        "# Clean and preprocess the data\n",
        "\n",
        "import glob\n",
        "import os\n",
        "\n",
        "def load_all_txt_documents(folder_path):\n",
        "    all_docs = []\n",
        "\n",
        "    # Recursively search for all .txt files\n",
        "    for file_path in glob.glob(os.path.join(folder_path, '**', '*.txt'), recursive=True):\n",
        "        try:\n",
        "            with open(file_path, 'r', encoding='utf-8', errors='ignore') as f:\n",
        "                text = f.read()\n",
        "                all_docs.append({\n",
        "                    \"text\": text,\n",
        "                    \"file_path\": file_path,\n",
        "                    \"category\": os.path.basename(os.path.dirname(file_path))\n",
        "                })\n",
        "        except Exception as e:\n",
        "            print(f\"❌ Error reading {file_path}: {e}\")\n",
        "\n",
        "    return all_docs\n",
        "\n",
        "corpus_path = \"/content/rag_legal\"\n",
        "documents = load_all_txt_documents(corpus_path)\n",
        "\n",
        "print(f\"✅ Loaded {len(documents)} documents\")\n",
        "print(\"📄 Sample document keys:\", documents[0].keys() if documents else \"No documents found\")\n",
        "\n",
        "import re\n",
        "import nltk\n",
        "nltk.download('stopwords')\n",
        "from nltk.corpus import stopwords\n",
        "from langchain.schema import Document\n",
        "\n",
        "# Set of English stop words\n",
        "stop_words = set(stopwords.words('english'))\n",
        "\n",
        "# Preprocessing function\n",
        "def preprocess_text(text):\n",
        "    text = re.sub(r'\\s+', ' ', text)  # Remove extra spaces\n",
        "    text = re.sub(r'\\S+@\\S+', '', text)  # Remove emails\n",
        "    text = re.sub(r'(\\(?\\d{3}\\)?[-.\\s]?\\d{3}[-.\\s]?\\d{4})', '', text)  # Remove phone numbers\n",
        "    text = re.sub(r'[^A-Za-z0-9\\s]', '', text)  # Remove special characters\n",
        "    text = text.lower()\n",
        "    return ' '.join([word for word in text.split() if word not in stop_words])\n",
        "\n",
        "# ✅ Create LangChain Document objects with cleaned text\n",
        "docs = [\n",
        "    Document(\n",
        "        page_content=preprocess_text(doc[\"text\"]),\n",
        "        metadata={\"source\": doc[\"file_path\"], \"category\": doc[\"category\"]}\n",
        "    )\n",
        "    for doc in documents\n",
        "]\n",
        "\n"
      ]
    },
    {
      "cell_type": "markdown",
      "metadata": {
        "id": "b9e90470"
      },
      "source": [
        "### **1.3 Exploratory Data Analysis** <font color=red> [10 marks] </font><br>"
      ],
      "id": "b9e90470"
    },
    {
      "cell_type": "markdown",
      "source": [
        "#### **1.3.1** <font color=red> [1 marks] </font>\n",
        "Calculate the average, maximum and minimum document length."
      ],
      "metadata": {
        "id": "Nd1K4yhIzyPp"
      },
      "id": "Nd1K4yhIzyPp"
    },
    {
      "cell_type": "code",
      "source": [
        "# Calculate the average, maximum and minimum document length.\n",
        "from collections import Counter\n",
        "import numpy as np\n",
        "\n",
        "lengths = [len(doc.page_content.split()) for doc in docs]\n",
        "print(f\"Average Length: {np.mean(lengths)}\\nMax Length: {np.max(lengths)}\\nMin Length: {np.min(lengths)}\")"
      ],
      "metadata": {
        "id": "tQT1UIcOHSp9",
        "colab": {
          "base_uri": "https://localhost:8080/"
        },
        "outputId": "314865ed-0773-49a3-ab5c-c20527c9cde5"
      },
      "id": "tQT1UIcOHSp9",
      "execution_count": 10,
      "outputs": [
        {
          "output_type": "stream",
          "name": "stdout",
          "text": [
            "Average Length: 8975.432664756447\n",
            "Max Length: 84946\n",
            "Min Length: 142\n",
            "20 Most Common Words: [('company', 148170), ('shall', 107995), ('agreement', 104559), ('section', 75344), ('parent', 58009), ('party', 49657), ('date', 39294), ('time', 35251), ('material', 34208), ('merger', 33843), ('subsidiaries', 33317), ('applicable', 31369), ('including', 29398), ('respect', 28848), ('may', 28069), ('stock', 26651), ('information', 25681), ('parties', 24610), ('b', 23935), ('business', 23497)]\n",
            "20 Least Common Words: [('122aib', 1), ('122di', 1), ('122ai', 1), ('122aiia', 1), ('122e', 1), ('123ciia2', 1), ('123ciia3', 1), ('123ciib1', 1), ('123ciib2', 1), ('123ciib3', 1), ('123ciii', 1), ('trialbytrial', 1), ('perdetail', 1), ('123cvide', 1), ('123cvi', 1), ('122aiii', 1), ('123di', 1), ('122aiib', 1), ('takings', 1), ('exhibitsancillary', 1)]\n"
          ]
        }
      ]
    },
    {
      "cell_type": "markdown",
      "source": [
        "#### **1.3.2** <font color=red> [4 marks] </font>\n",
        "Analyse the frequency of occurrence of words and find the most and least occurring words."
      ],
      "metadata": {
        "id": "18xQu__O0wLv"
      },
      "id": "18xQu__O0wLv"
    },
    {
      "cell_type": "markdown",
      "source": [
        "Find the 20 most common and least common words in the text. Ignore stop words such as articles and prepositions."
      ],
      "metadata": {
        "id": "IQ_i5YfFH2dg"
      },
      "id": "IQ_i5YfFH2dg"
    },
    {
      "cell_type": "code",
      "source": [
        "# Find frequency of occurence of words\n",
        "from collections import Counter\n",
        "import numpy as np\n",
        "\n",
        "all_words = ' '.join(doc.page_content for doc in docs).split()\n",
        "counter = Counter(all_words)\n",
        "\n",
        "print(\"20 Most Common Words:\", counter.most_common(20))\n",
        "print(\"20 Least Common Words:\", counter.most_common()[-20:])"
      ],
      "metadata": {
        "id": "Q8eiDTy2Ic8z",
        "colab": {
          "base_uri": "https://localhost:8080/"
        },
        "outputId": "45c5ff77-5a89-4d09-ab3d-8e97caae17cc"
      },
      "id": "Q8eiDTy2Ic8z",
      "execution_count": 11,
      "outputs": [
        {
          "output_type": "stream",
          "name": "stdout",
          "text": [
            "20 Most Common Words: [('company', 148170), ('shall', 107995), ('agreement', 104559), ('section', 75344), ('parent', 58009), ('party', 49657), ('date', 39294), ('time', 35251), ('material', 34208), ('merger', 33843), ('subsidiaries', 33317), ('applicable', 31369), ('including', 29398), ('respect', 28848), ('may', 28069), ('stock', 26651), ('information', 25681), ('parties', 24610), ('b', 23935), ('business', 23497)]\n",
            "20 Least Common Words: [('122aib', 1), ('122di', 1), ('122ai', 1), ('122aiia', 1), ('122e', 1), ('123ciia2', 1), ('123ciia3', 1), ('123ciib1', 1), ('123ciib2', 1), ('123ciib3', 1), ('123ciii', 1), ('trialbytrial', 1), ('perdetail', 1), ('123cvide', 1), ('123cvi', 1), ('122aiii', 1), ('123di', 1), ('122aiib', 1), ('takings', 1), ('exhibitsancillary', 1)]\n"
          ]
        }
      ]
    },
    {
      "cell_type": "markdown",
      "source": [
        "#### **1.3.3** <font color=red> [4 marks] </font>\n",
        "Analyse the similarity of different documents to each other based on TF-IDF vectors."
      ],
      "metadata": {
        "id": "xlF55RNjz9pQ"
      },
      "id": "xlF55RNjz9pQ"
    },
    {
      "cell_type": "markdown",
      "source": [
        "Transform some documents to TF-IDF vectors and calculate their similarity matrix using a suitable distance function. If contracts contain duplicate or highly similar clauses, similarity calculation can help detect them.\n",
        "\n",
        "Identify for the first 10 documents and then for 10 random documents. What do you observe?"
      ],
      "metadata": {
        "id": "jciCNMelOGPJ"
      },
      "id": "jciCNMelOGPJ"
    },
    {
      "cell_type": "code",
      "source": [
        "# Transform the page contents of documents\n",
        "\n",
        "from sklearn.feature_extraction.text import TfidfVectorizer\n",
        "from sklearn.metrics.pairwise import cosine_similarity\n",
        "import random\n",
        "\n",
        "contents = [doc.page_content for doc in docs]\n",
        "vectorizer = TfidfVectorizer()\n",
        "tfidf_matrix = vectorizer.fit_transform(contents)\n",
        "\n",
        "# Compute similarity scores\n",
        "similarity_matrix_first10 = cosine_similarity(tfidf_matrix[:10])\n",
        "print(similarity_matrix_first10)"
      ],
      "metadata": {
        "id": "M-_SrvDcMnKi",
        "colab": {
          "base_uri": "https://localhost:8080/"
        },
        "outputId": "bf00e9a5-6310-4c16-e240-b5eb378b084b"
      },
      "id": "M-_SrvDcMnKi",
      "execution_count": 13,
      "outputs": [
        {
          "output_type": "stream",
          "name": "stdout",
          "text": [
            "[[1.         0.29298252 0.30119917 0.19987952 0.27135081 0.19520498\n",
            "  0.17481365 0.10513746 0.05580197 0.06503493]\n",
            " [0.29298252 1.         0.40471471 0.32220309 0.42714379 0.28313062\n",
            "  0.31475707 0.13116893 0.05755453 0.09096209]\n",
            " [0.30119917 0.40471471 1.         0.35764548 0.52624268 0.31982757\n",
            "  0.24753857 0.12046101 0.06402482 0.07828118]\n",
            " [0.19987952 0.32220309 0.35764548 1.         0.34305073 0.20130963\n",
            "  0.19943237 0.06875807 0.03090197 0.04641382]\n",
            " [0.27135081 0.42714379 0.52624268 0.34305073 1.         0.30138468\n",
            "  0.26771973 0.10962853 0.05489759 0.07350297]\n",
            " [0.19520498 0.28313062 0.31982757 0.20130963 0.30138468 1.\n",
            "  0.17732837 0.08294927 0.03999159 0.05439024]\n",
            " [0.17481365 0.31475707 0.24753857 0.19943237 0.26771973 0.17732837\n",
            "  1.         0.06451441 0.03113781 0.04363283]\n",
            " [0.10513746 0.13116893 0.12046101 0.06875807 0.10962853 0.08294927\n",
            "  0.06451441 1.         0.11276923 0.11385125]\n",
            " [0.05580197 0.05755453 0.06402482 0.03090197 0.05489759 0.03999159\n",
            "  0.03113781 0.11276923 1.         0.05786889]\n",
            " [0.06503493 0.09096209 0.07828118 0.04641382 0.07350297 0.05439024\n",
            "  0.04363283 0.11385125 0.05786889 1.        ]]\n"
          ]
        }
      ]
    },
    {
      "cell_type": "code",
      "source": [
        "# create a list of 10 random integers\n",
        "# Random 10 docs\n",
        "random_indices = random.sample(range(len(contents)), 10)"
      ],
      "metadata": {
        "id": "pd99eXtnK2DU"
      },
      "id": "pd99eXtnK2DU",
      "execution_count": 14,
      "outputs": []
    },
    {
      "cell_type": "code",
      "source": [
        "# Compute similarity scores for 10 random documents\n",
        "similarity_matrix_random10 = cosine_similarity(tfidf_matrix[random_indices])\n",
        "print(similarity_matrix_random10)"
      ],
      "metadata": {
        "id": "t31ngfZTJimS",
        "colab": {
          "base_uri": "https://localhost:8080/"
        },
        "outputId": "e6cd2460-0524-42c1-aa02-b74165e0764a"
      },
      "id": "t31ngfZTJimS",
      "execution_count": 15,
      "outputs": [
        {
          "output_type": "stream",
          "name": "stdout",
          "text": [
            "[[1.         0.07369675 0.22712458 0.31333251 0.26121847 0.25113723\n",
            "  0.08321273 0.03700078 0.2319713  0.05444979]\n",
            " [0.07369675 1.         0.07201174 0.10139633 0.09100703 0.08185582\n",
            "  0.03480512 0.01983311 0.06901102 0.03142147]\n",
            " [0.22712458 0.07201174 1.         0.27152977 0.25401133 0.32489474\n",
            "  0.10883996 0.05215374 0.21026718 0.07547099]\n",
            " [0.31333251 0.10139633 0.27152977 1.         0.8674456  0.22246601\n",
            "  0.09869778 0.05689749 0.81072876 0.06697886]\n",
            " [0.26121847 0.09100703 0.25401133 0.8674456  1.         0.19718434\n",
            "  0.08729803 0.04922853 0.90870847 0.05942849]\n",
            " [0.25113723 0.08185582 0.32489474 0.22246601 0.19718434 1.\n",
            "  0.18837688 0.06181138 0.13985052 0.08821638]\n",
            " [0.08321273 0.03480512 0.10883996 0.09869778 0.08729803 0.18837688\n",
            "  1.         0.02907979 0.06377738 0.05150814]\n",
            " [0.03700078 0.01983311 0.05215374 0.05689749 0.04922853 0.06181138\n",
            "  0.02907979 1.         0.03663428 0.02040341]\n",
            " [0.2319713  0.06901102 0.21026718 0.81072876 0.90870847 0.13985052\n",
            "  0.06377738 0.03663428 1.         0.04082288]\n",
            " [0.05444979 0.03142147 0.07547099 0.06697886 0.05942849 0.08821638\n",
            "  0.05150814 0.02040341 0.04082288 1.        ]]\n"
          ]
        }
      ]
    },
    {
      "cell_type": "markdown",
      "metadata": {
        "id": "3cfd0f53"
      },
      "source": [
        "### **1.4 Document Creation and Chunking** <font color=red> [5 marks] </font><br>"
      ],
      "id": "3cfd0f53"
    },
    {
      "cell_type": "markdown",
      "source": [
        "#### **1.4.1** <font color=red> [5 marks] </font>\n",
        "Perform appropriate steps to split the text into chunks."
      ],
      "metadata": {
        "id": "pCw3NzcE3waS"
      },
      "id": "pCw3NzcE3waS"
    },
    {
      "cell_type": "code",
      "source": [
        "# Process files and generate chunks\n",
        "from langchain.text_splitter import RecursiveCharacterTextSplitter\n",
        "\n",
        "splitter = RecursiveCharacterTextSplitter(chunk_size=1000, chunk_overlap=50)\n",
        "chunks = splitter.split_documents(docs)"
      ],
      "metadata": {
        "id": "TjZ6yf9r2p1F"
      },
      "execution_count": 17,
      "outputs": [],
      "id": "TjZ6yf9r2p1F"
    },
    {
      "cell_type": "markdown",
      "source": [
        "## **2. Vector Database and RAG Chain Creation** <font color=red> [15 marks] </font><br>"
      ],
      "metadata": {
        "id": "LeAeTqpZ-DYw"
      },
      "id": "LeAeTqpZ-DYw"
    },
    {
      "cell_type": "markdown",
      "metadata": {
        "id": "YoH_Ac6K6aQZ"
      },
      "source": [
        "### **2.1 Vector Embedding and Vector Database Creation** <font color=red> [7 marks] </font><br>"
      ],
      "id": "YoH_Ac6K6aQZ"
    },
    {
      "cell_type": "markdown",
      "source": [
        "#### **2.1.1** <font color=red> [2 marks] </font>\n",
        "Initialise an embedding function for loading the embeddings into the vector database."
      ],
      "metadata": {
        "id": "bBfj5ycC59lU"
      },
      "id": "bBfj5ycC59lU"
    },
    {
      "cell_type": "markdown",
      "source": [
        "Initialise a function to transform the text to vectors using OPENAI Embeddings module. You can also use this function to transform during vector DB creation itself."
      ],
      "metadata": {
        "id": "v-QeR5N_7jiw"
      },
      "id": "v-QeR5N_7jiw"
    },
    {
      "cell_type": "code",
      "source": [
        "# Fetch your OPENAI API Key as an environment variable\n",
        "import os\n",
        "os.environ[\"OPENAI_API_KEY\"] = \"your-api-key\""
      ],
      "metadata": {
        "id": "b3Jaq3HEhpxN"
      },
      "execution_count": null,
      "outputs": [],
      "id": "b3Jaq3HEhpxN"
    },
    {
      "cell_type": "code",
      "source": [
        "# Initialise an embedding function\n",
        "from langchain.embeddings import OpenAIEmbeddings\n",
        "from langchain.vectorstores import FAISS\n",
        "\n",
        "embedding_function = OpenAIEmbeddings()\n",
        "vector_db = FAISS.from_documents(chunks, embedding_function)\n",
        "\n",
        "vector_db.save_local(\"/content/vector_db/\")\n"
      ],
      "metadata": {
        "id": "purQgINbhpxO"
      },
      "execution_count": null,
      "outputs": [],
      "id": "purQgINbhpxO"
    },
    {
      "cell_type": "markdown",
      "source": [
        "#### **2.1.2** <font color=red> [5 marks] </font>\n",
        "Load the embeddings to a vector database."
      ],
      "metadata": {
        "id": "WTkTIerj5-KI"
      },
      "id": "WTkTIerj5-KI"
    },
    {
      "cell_type": "markdown",
      "source": [
        "Create a directory for vector database and enter embedding data to the vector DB."
      ],
      "metadata": {
        "id": "o6rEbd7477R8"
      },
      "id": "o6rEbd7477R8"
    },
    {
      "cell_type": "code",
      "source": [
        "# Add Chunks to vector DB\n",
        "\n"
      ],
      "metadata": {
        "id": "IaqfjQJf2v8Y"
      },
      "execution_count": null,
      "outputs": [],
      "id": "IaqfjQJf2v8Y"
    },
    {
      "cell_type": "markdown",
      "metadata": {
        "id": "978619ac"
      },
      "source": [
        "### **2.2 Create RAG Chain** <font color=red> [8 marks] </font><br>"
      ],
      "id": "978619ac"
    },
    {
      "cell_type": "markdown",
      "source": [
        "#### **2.2.1** <font color=red> [5 marks] </font>\n",
        "Create a RAG chain."
      ],
      "metadata": {
        "id": "Rczna1Xy_1bq"
      },
      "id": "Rczna1Xy_1bq"
    },
    {
      "cell_type": "code",
      "execution_count": null,
      "metadata": {
        "id": "sEzxYN93Ygju"
      },
      "outputs": [],
      "source": [
        "# Create a RAG chain\n",
        "from langchain.chat_models import ChatOpenAI\n",
        "from langchain.chains import RetrievalQA\n",
        "\n",
        "retriever = vector_db.as_retriever(search_kwargs={\"k\": 3})\n",
        "llm = ChatOpenAI(model=\"gpt-3.5-turbo\", temperature=0)\n",
        "\n",
        "qa_chain = RetrievalQA.from_chain_type(\n",
        "    llm=llm,\n",
        "    retriever=retriever,\n",
        "    return_source_documents=True\n",
        ")\n"
      ],
      "id": "sEzxYN93Ygju"
    },
    {
      "cell_type": "markdown",
      "source": [
        "#### **2.2.2** <font color=red> [3 marks] </font>\n",
        "Create a function to generate answer for asked questions."
      ],
      "metadata": {
        "id": "6PkgzeTIElfy"
      },
      "id": "6PkgzeTIElfy"
    },
    {
      "cell_type": "markdown",
      "source": [
        "Use the RAG chain to generate answer for a question and provide source documents"
      ],
      "metadata": {
        "id": "W8AMtr94FZxR"
      },
      "id": "W8AMtr94FZxR"
    },
    {
      "cell_type": "code",
      "source": [
        "# Create a function for question answering\n",
        "# Example\n",
        "response = qa_chain(\"Does the NDA grant rights to confidential info?\")\n",
        "print(response)\n"
      ],
      "metadata": {
        "id": "b9TQdz5uFzlr"
      },
      "execution_count": null,
      "outputs": [],
      "id": "b9TQdz5uFzlr"
    },
    {
      "cell_type": "code",
      "execution_count": null,
      "metadata": {
        "id": "pSgcP19iYgjv"
      },
      "outputs": [],
      "source": [
        "# Example question\n",
        "# question =\"Consider the Non-Disclosure Agreement between CopAcc and ToP Mentors; Does the document indicate that the Agreement does not grant the Receiving Party any rights to the Confidential Information?\"\n"
      ],
      "id": "pSgcP19iYgjv"
    },
    {
      "cell_type": "markdown",
      "source": [
        "## **3. RAG Evaluation** <font color=red> [10 marks] </font><br>"
      ],
      "metadata": {
        "id": "fMmX8OrcN05D"
      },
      "id": "fMmX8OrcN05D"
    },
    {
      "cell_type": "markdown",
      "metadata": {
        "id": "b1ddfed9"
      },
      "source": [
        "### **3.1 Evaluation and Inference** <font color=red> [10 marks] </font><br>"
      ],
      "id": "b1ddfed9"
    },
    {
      "cell_type": "markdown",
      "source": [
        "#### **3.1.1** <font color=red> [2 marks] </font>\n",
        "Extract all the questions and all the answers/ground truths from the benchmark files."
      ],
      "metadata": {
        "id": "Z9xy_GduS9Yk"
      },
      "id": "Z9xy_GduS9Yk"
    },
    {
      "cell_type": "markdown",
      "source": [
        "Create a questions set and an answers set containing all the questions and answers from the benchmark files to run evaluations."
      ],
      "metadata": {
        "id": "V397RqkRfjSP"
      },
      "id": "V397RqkRfjSP"
    },
    {
      "cell_type": "code",
      "source": [
        "# Create a question set by taking all the questions from the benchmark data\n",
        "# Also create a ground truth/answer set\n",
        "import json\n",
        "\n",
        "def extract_benchmark_data(json_path):\n",
        "    with open(json_path, 'r') as f:\n",
        "        data = json.load(f)\n",
        "\n",
        "    queries = []\n",
        "    ground_truths = []\n",
        "    for test in data['tests']:\n",
        "        queries.append(test['query'])\n",
        "        answers = [s['answer'] for s in test['snippets']]\n",
        "        ground_truths.append(answers)\n",
        "    return queries, ground_truths\n",
        "\n",
        "# Example for one JSON\n",
        "queries, truths = extract_benchmark_data('/content/legal_docs_dataset/benchmark/contractnli.json')"
      ],
      "metadata": {
        "id": "bF_KZXb1c-G5"
      },
      "id": "bF_KZXb1c-G5",
      "execution_count": null,
      "outputs": []
    },
    {
      "cell_type": "markdown",
      "source": [
        "#### **3.1.2** <font color=red> [5 marks] </font>\n",
        "Create a function to evaluate the generated answers."
      ],
      "metadata": {
        "id": "81VscxuGTHhC"
      },
      "id": "81VscxuGTHhC"
    },
    {
      "cell_type": "markdown",
      "source": [
        "Evaluate the responses on *Rouge*, *Ragas* and *Bleu* scores."
      ],
      "metadata": {
        "id": "qIPUg1dKTPGb"
      },
      "id": "qIPUg1dKTPGb"
    },
    {
      "cell_type": "code",
      "source": [
        "# Function to evaluate the RAG pipeline\n",
        "from ragas.metrics import answer_relevancy, faithfulness, context_recall\n",
        "from ragas import evaluate\n",
        "from rouge_score import rouge_scorer\n",
        "from nltk.translate.bleu_score import sentence_bleu\n",
        "\n",
        "def evaluate_rag_model(qa_chain, questions, ground_truths, n=100):\n",
        "    predictions = []\n",
        "    for i in range(min(n, len(questions))):\n",
        "        response = qa_chain(questions[i])\n",
        "        predictions.append(response['result'])\n",
        "\n",
        "\n"
      ],
      "metadata": {
        "id": "RuoBJS5_PKmX"
      },
      "execution_count": null,
      "outputs": [],
      "id": "RuoBJS5_PKmX"
    },
    {
      "cell_type": "markdown",
      "source": [
        "#### **3.1.3** <font color=red> [3 marks] </font>\n",
        "Draw inferences by evaluating answers to all questions."
      ],
      "metadata": {
        "id": "Omeb5vFSTbS0"
      },
      "id": "Omeb5vFSTbS0"
    },
    {
      "cell_type": "markdown",
      "source": [
        "To save time and computing power, you can just run the evaluation on first 100 questions."
      ],
      "metadata": {
        "id": "ei2qIN71Tirg"
      },
      "id": "ei2qIN71Tirg"
    },
    {
      "cell_type": "code",
      "execution_count": null,
      "metadata": {
        "id": "f4f1f24a"
      },
      "outputs": [],
      "source": [
        "# Evaluate the RAG pipeline\n",
        "   # RAGAS\n",
        "    ragas_result = evaluate(\n",
        "        questions=questions[:n],\n",
        "        answers=predictions[:n],\n",
        "        contexts=[[d.page_content for d in response['source_documents']] for response in predictions[:n]],\n",
        "        metrics=[answer_relevancy, faithfulness, context_recall],\n",
        "    )\n",
        "\n",
        "    # ROUGE & BLEU\n",
        "    scorer = rouge_scorer.RougeScorer(['rougeL'], use_stemmer=True)\n",
        "    rouge_scores = [scorer.score(gt[0], pred)['rougeL'].fmeasure for gt, pred in zip(ground_truths[:n], predictions[:n])]\n",
        "    bleu_scores = [sentence_bleu([gt[0].split()], pred.split()) for gt, pred in zip(ground_truths[:n], predictions[:n])]\n",
        "\n",
        "    return {\n",
        "        \"RAGAS\": ragas_result,\n",
        "        \"Average ROUGE-L\": sum(rouge_scores)/n,\n",
        "        \"Average BLEU\": sum(bleu_scores)/n\n",
        "    }\n",
        "\n",
        "# Run:\n",
        "results = evaluate_rag_model(qa_chain, queries, truths)\n",
        "print(results)\n"
      ],
      "id": "f4f1f24a"
    },
    {
      "cell_type": "markdown",
      "source": [
        "## **4. Conclusion** <font color=red> [5 marks] </font><br>"
      ],
      "metadata": {
        "id": "gonMO9wNE5dt"
      },
      "id": "gonMO9wNE5dt"
    },
    {
      "cell_type": "markdown",
      "metadata": {
        "id": "ySHPR29rE5du"
      },
      "source": [
        "### **4.1 Conclusions and insights** <font color=red> [5 marks] </font><br>"
      ],
      "id": "ySHPR29rE5du"
    },
    {
      "cell_type": "markdown",
      "source": [
        "#### **4.1.1** <font color=red> [5 marks] </font>\n",
        "Conclude with the results here. Include the insights gained about the data, model pipeline, the RAG process and the results obtained."
      ],
      "metadata": {
        "id": "KoVsmcV0E5du"
      },
      "id": "KoVsmcV0E5du"
    }
  ],
  "metadata": {
    "kernelspec": {
      "display_name": "Python book_project",
      "language": "python",
      "name": "myenv"
    },
    "language_info": {
      "codemirror_mode": {
        "name": "ipython",
        "version": 3
      },
      "file_extension": ".py",
      "mimetype": "text/x-python",
      "name": "python",
      "nbconvert_exporter": "python",
      "pygments_lexer": "ipython3",
      "version": "3.10.9"
    },
    "colab": {
      "provenance": [],
      "collapsed_sections": [
        "LeAeTqpZ-DYw",
        "fMmX8OrcN05D",
        "gonMO9wNE5dt"
      ]
    }
  },
  "nbformat": 4,
  "nbformat_minor": 5
}